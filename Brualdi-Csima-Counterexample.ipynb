{
 "cells": [
  {
   "cell_type": "code",
   "execution_count": 11,
   "metadata": {},
   "outputs": [],
   "source": [
    "import numpy as np\n",
    "import math\n",
    "import random"
   ]
  },
  {
   "cell_type": "code",
   "execution_count": 12,
   "metadata": {},
   "outputs": [],
   "source": [
    "# -------------\n",
    "# INPUT\n",
    "# X : an array of integers\n",
    "# Y : an array of integers\n",
    "# Z : an array of integers\n",
    "# -------------\n",
    "# OUTPUT\n",
    "# T : a list of triples (i,j,k), which will represent a pattern\n",
    "# -------------\n",
    "# DESCRIPTION\n",
    "# Here X, Y, Z are all of the same length. Returns (i,j,k) in {0,..,n-1}^3 so that X[i]+Y[j]+Z[j] >= 0. This is the\n",
    "# \"nonnegative support of (X,Y,Z)\". \n",
    "def nonnegSupp(X,Y,Z):\n",
    "    n = len(X)\n",
    "    T=[]\n",
    "    for i in range(n):\n",
    "        for j in range(n):\n",
    "            for k in range(n):\n",
    "                if((X[i] + Y[j] + Z[k]) >= 0):\n",
    "                    T.append((i,j,k))\n",
    "    return T"
   ]
  },
  {
   "cell_type": "code",
   "execution_count": 13,
   "metadata": {},
   "outputs": [],
   "source": [
    "# -------------\n",
    "# INPUT\n",
    "# X : an array of integers\n",
    "# Y : an array of integers\n",
    "# Z : an array of integers\n",
    "# T : a list of triples (i,j,k), representing a pattern\n",
    "# -------------\n",
    "# OUTPUT\n",
    "# allZero : a boolean\n",
    "# -------------\n",
    "# DESCRIPTION\n",
    "# It returns true if X[i] + Y[j] + Z[k] is zero for all (i,j,k) in T.\n",
    "def allZero(X,Y,Z,T):\n",
    "    n = len(X)\n",
    "    allZero = True\n",
    "    for (i,j,k) in T:\n",
    "        if((X[i] + Y[j] + Z[k])!=0):\n",
    "            allZero = False\n",
    "    return allZero"
   ]
  },
  {
   "cell_type": "code",
   "execution_count": 14,
   "metadata": {},
   "outputs": [],
   "source": [
    "# -------------\n",
    "# DESCRIPTION\n",
    "# It returns a list of all tuples (z1,...,z15) in {-1,0,1}^15 so that z1+...+z15=0.\n",
    "def tups():\n",
    "    J = [-1, 0 , 1]\n",
    "    return [(z1, z2, z3, z4, z5, z6, z7, z8, z9, z10, z11, z12, z13, z14, z15) \n",
    "            for z1 in J for z2 in J for z3 in J for z4 in J for z5 in J for z6 in J for z7 in J for z8 in J \n",
    "            for z9 in J for z10 in J for z11 in J for z12 in J for z13 in J for z14 in J for z15 in J \n",
    "            if z1 + z2 + z3 + z4 + z5 + z6 + z7 + z8 + z9 + z10 + z11 + z12 + z13 + z14 + z15 == 0]"
   ]
  },
  {
   "cell_type": "code",
   "execution_count": 21,
   "metadata": {},
   "outputs": [
    {
     "name": "stdout",
     "output_type": "stream",
     "text": [
      "Conjecture 0.2 is false.\n"
     ]
    }
   ],
   "source": [
    "# Here we construct the 5x5x5 pattern T from our paper as the nonnegative support of (X0,Y0,Z0).\n",
    "# The linear function (called L in our paper) associated to X0,Y0,Z0 does take a positive value on T \n",
    "# (so L is not identically zero on T). Hence, by Theorem 0.1, T is not a stochastic pattern.\n",
    "X0 = [-2,-1,0,1,2]\n",
    "Y0 = [-2,-1,0,1,2]\n",
    "Z0 = [-2,-1,0,1,2]\n",
    "T = nonnegSupp(X0,Y0,Z0)\n",
    "\n",
    "# We check that for any X,Y,Z in {-1,0,1}^5, the linear function associated to (X,Y,Z) is either identically zero \n",
    "# on T or assumes both positive and negative values. If Conjecture 0.2 were true, then as T is not stochastic, \n",
    "# this code would print an X,Y,Z which is not identically zero on T and assumes either only nonpositive or \n",
    "# only nonnegative values on T.\n",
    "myTups = tups()\n",
    "\n",
    "# The boolean 'counterexample' will flip to False if the code finds a {-1,0,1}-linear function which is not \n",
    "# identically zero and takes both positive and negative values on T.\n",
    "counterexample = True\n",
    "\n",
    "for (z1, z2, z3, z4, z5, z6, z7, z8, z9, z10, z11, z12, z13, z14, z15) in myTups:\n",
    "    # Generates all triples of 5-tuples X,Y,Z consisting of numbers in {-1,0,1}\n",
    "    X = [z1, z2, z3, z4, z5]\n",
    "    Y = [z6, z7, z8, z9, z10]\n",
    "    Z = [z11, z12, z13, z14, z15]\n",
    "    \n",
    "    # Checks if linear function associated to X,Y,Z assumes only nonnegative values on T\n",
    "    nonnegative = True\n",
    "    for (i,j,k) in T:\n",
    "        if X[i] + Y[j] + Z[k] < 0:\n",
    "            nonnegative = False\n",
    "            \n",
    "    # Checks if linear function associated to X,Y,Z assumes only nonpositive values on T\n",
    "    nonpositive = True\n",
    "    for (i,j,k) in T:\n",
    "        if X[i] + Y[j] + Z[k] > 0:\n",
    "            nonpositive = False\n",
    "    \n",
    "    # If linear function associated to X,Y,Z assumes either only nonnegative or only nonpositive values on T,\n",
    "    # we further check if it is identically zero on T. If not, then this prints (X,Y,Z).\n",
    "    if nonnegative or nonpositive:\n",
    "        if not allZero(X,Y,Z,T):\n",
    "            counterexample = False\n",
    "            print(X,Y,Z)\n",
    "            print(\"This is not a counterexample to Conjecture 0.2.\")    \n",
    "if counterexample:\n",
    "    print(\"Conjecture 0.2 is false.\")"
   ]
  },
  {
   "cell_type": "code",
   "execution_count": null,
   "metadata": {},
   "outputs": [],
   "source": [
    "# This program outputs that Conjecture 0.2 is false."
   ]
  },
  {
   "cell_type": "code",
   "execution_count": null,
   "metadata": {},
   "outputs": [],
   "source": []
  }
 ],
 "metadata": {
  "kernelspec": {
   "display_name": "Python 3",
   "language": "python",
   "name": "python3"
  },
  "language_info": {
   "codemirror_mode": {
    "name": "ipython",
    "version": 3
   },
   "file_extension": ".py",
   "mimetype": "text/x-python",
   "name": "python",
   "nbconvert_exporter": "python",
   "pygments_lexer": "ipython3",
   "version": "3.7.7"
  }
 },
 "nbformat": 4,
 "nbformat_minor": 5
}
