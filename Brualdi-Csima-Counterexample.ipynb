{
 "cells": [
  {
   "cell_type": "code",
   "execution_count": 3,
   "metadata": {},
   "outputs": [],
   "source": [
    "import numpy as np\n",
    "import math\n",
    "import random"
   ]
  },
  {
   "cell_type": "code",
   "execution_count": 8,
   "metadata": {},
   "outputs": [],
   "source": [
    "# -------------\n",
    "# INPUT\n",
    "# X : an array of integers\n",
    "# Y : an array of integers\n",
    "# Z : an array of integers\n",
    "# -------------\n",
    "# OUTPUT\n",
    "# T : a list of 3-tuples (i,j,k), which will represent a pattern\n",
    "# -------------\n",
    "# DESCRIPTION\n",
    "# Here X, Y, Z are all of the same length. Returns (i,j,k) in {0,..,n-1}^3 so that X[i]+Y[j]+Z[j] >= 0. This is the\n",
    "# \"nonnegative support\" of X, Y, Z. \n",
    "def nonnegSupp(X,Y,Z):\n",
    "    n = len(X)\n",
    "    T=[]\n",
    "    for i in range(n):\n",
    "        for j in range(n):\n",
    "            for k in range(n):\n",
    "                if((X[i] + Y[j] + Z[k]) >= 0):\n",
    "                    T.append((i,j,k))\n",
    "    return T"
   ]
  },
  {
   "cell_type": "code",
   "execution_count": 9,
   "metadata": {},
   "outputs": [],
   "source": [
    "# -------------\n",
    "# INPUT\n",
    "# X : an array of integers\n",
    "# Y : an array of integers\n",
    "# Z : an array of integers\n",
    "# T : a list of tuples (i,j,k), representing some kind of pattern\n",
    "# -------------\n",
    "# OUTPUT\n",
    "# allZero : a boolean\n",
    "# -------------\n",
    "# DESCRIPTION\n",
    "# It returns true if X[i] + Y[j] + Z[k] is zero for all (i,j,k) in T.\n",
    "def allZero(X,Y,Z,T):\n",
    "    n = len(X)\n",
    "    allZero = True\n",
    "    for (i,j,k) in T:\n",
    "        if((X[i] + Y[j] + Z[k])!=0):\n",
    "            allZero = False\n",
    "    return allZero"
   ]
  },
  {
   "cell_type": "code",
   "execution_count": 10,
   "metadata": {},
   "outputs": [],
   "source": [
    "# -------------\n",
    "# DESCRIPTION\n",
    "# It returns a list of all tuples (z1,...,z15) in {-1,0,1}^15 so that z1+...+z15=0.\n",
    "def tups():\n",
    "    J = [-1, 0 , 1]\n",
    "    return [(z1, z2, z3, z4, z5, z6, z7, z8, z9, z10, z11, z12, z13, z14, z15) \n",
    "            for z1 in J for z2 in J for z3 in J for z4 in J for z5 in J for z6 in J for z7 in J for z8 in J \n",
    "            for z9 in J for z10 in J for z11 in J for z12 in J for z13 in J for z14 in J for z15 in J \n",
    "            if z1 + z2 + z3 + z4 + z5 + z6 + z7 + z8 + z9 + z10 + z11 + z12 + z13 + z14 + z15 == 0]"
   ]
  },
  {
   "cell_type": "code",
   "execution_count": 11,
   "metadata": {},
   "outputs": [],
   "source": [
    "# Here we construct X0,Y0,Z0 and T so that T consist of (i,j,k) in {0,..,n-1}^3 so that X0[i]+Y0[j]+Z0[j] >= 0. T is the pattern\n",
    "# in consideration. Moreover, the linear function associated to X0,Y0,Z0 does take a positive value on T. For example,\n",
    "# (4,4,4) works. Hence, by the theorem in the paper, T is not a stochastic pattern.\n",
    "X0 = [-2,-1,0,1,2]\n",
    "Y0 = [-2,-1,0,1,2]\n",
    "Z0 = [-2,-1,0,1,2]\n",
    "T = nonnegSupp(X0,Y0,Z0)\n",
    "\n",
    "# Here we check that for any X,Y,Z consisting of numbers in {-1,0,1}, the linear function associated to X,Y,Z is either\n",
    "# identically zero on T or assumes both positive and negative values. If the conjecture were true, then as T is not stochastic,\n",
    "# this code would print an X,Y,Z which is not identically zero on T and assumes either only nonpositive or only \n",
    "# nonnegative values.\n",
    "myTups = tups()\n",
    "for (z1, z2, z3, z4, z5, z6, z7, z8, z9, z10, z11, z12, z13, z14, z15) in myTups:\n",
    "    # Generates an X,Y,Z consisting of numbers in {-1,0,1}\n",
    "    X = [z1, z2, z3, z4, z5]\n",
    "    Y = [z6, z7, z8, z9, z10]\n",
    "    Z = [z11, z12, z13, z14, z15]\n",
    "    \n",
    "    # Checks if X,Y,Z assumes only nonnegative values\n",
    "    nonnegative = True\n",
    "    for (i,j,k) in T:\n",
    "        if((X[i] + Y[j] + Z[k]) < 0):\n",
    "            nonnegative = False\n",
    "            \n",
    "    # Checks if X,Y,Z assumes only nonpositive values\n",
    "    nonpositive = True\n",
    "    for (i,j,k) in T:\n",
    "        if((X[i] + Y[j] + Z[k]) > 0):\n",
    "            nonpositive = False\n",
    "    \n",
    "    # If X,Y,Z assumes either only nonnegative or only nonpositive values, we further check if it is identically zero\n",
    "    # on T. If not, then it prints the linear function associated to X,Y,Z. \n",
    "    if(nonnegative or nonpositive):\n",
    "        if(not allZero(X,Y,Z,T)):\n",
    "            print(X[0],\"x0 + \",X[1],\"x1 + \",X[2],\"x2 + \",X[3],\"x3 + \",X[4],\"x4 + \",Y[0],\"y0 + \",Y[1],\"y1 + \",Y[2],\"y2 + \"\n",
    "             ,Y[3],\"y3 + \",Y[4],\"y4 + \",Z[0],\"z0 + \",Z[1],\"z1 + \",Z[2],\"z2 + \",Z[3],\"z3 + \",Z[4],\"z4\")"
   ]
  },
  {
   "cell_type": "code",
   "execution_count": null,
   "metadata": {},
   "outputs": [],
   "source": [
    "# Since nothing is printed, we conclude that the conjecture is false."
   ]
  }
 ],
 "metadata": {
  "kernelspec": {
   "display_name": "Python 3",
   "language": "python",
   "name": "python3"
  },
  "language_info": {
   "codemirror_mode": {
    "name": "ipython",
    "version": 3
   },
   "file_extension": ".py",
   "mimetype": "text/x-python",
   "name": "python",
   "nbconvert_exporter": "python",
   "pygments_lexer": "ipython3",
   "version": "3.7.7"
  }
 },
 "nbformat": 4,
 "nbformat_minor": 5
}
